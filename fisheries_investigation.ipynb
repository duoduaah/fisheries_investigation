{
  "cells": [
    {
      "cell_type": "markdown",
      "metadata": {
        "id": "u3AbSJRITo49"
      },
      "source": [
        "## Import Libraries"
      ]
    },
    {
      "cell_type": "code",
      "execution_count": null,
      "metadata": {
        "id": "MzhNqWrHUHy4"
      },
      "outputs": [],
      "source": [
        "import numpy as np # linear algebra\n",
        "import pandas as pd # data processing, CSV file I/O (e.g. pd.read_csv)\n",
        "import matplotlib.pyplot as plt\n",
        "import operator\n",
        "import seaborn as sns\n",
        "from sklearn.preprocessing import StandardScaler\n",
        "from sklearn.linear_model import LinearRegression\n",
        "from sklearn.model_selection import train_test_split, cross_val_score, cross_val_predict\n",
        "from sklearn.metrics import mean_squared_error\n",
        "\n",
        "import warnings\n",
        "warnings.filterwarnings(\"ignore\")"
      ]
    },
    {
      "cell_type": "markdown",
      "metadata": {
        "id": "5VRWrVBzUUxN"
      },
      "source": [
        "### Load Data"
      ]
    },
    {
      "cell_type": "code",
      "execution_count": null,
      "metadata": {
        "id": "qmgKCmUwUVxZ"
      },
      "outputs": [],
      "source": [
        "# Data credits: https://www.kaggle.com/sohier/calcofi\n",
        "salinity_df = pd.read_csv(\"https://www.dropbox.com/s/erzelsbm9ryrt0m/assignment3.csv?dl=1\")\n"
      ]
    },
    {
      "cell_type": "code",
      "execution_count": null,
      "metadata": {
        "colab": {
          "base_uri": "https://localhost:8080/"
        },
        "id": "cKJkzTBxk-G4",
        "outputId": "d5109d84-2b4b-4461-d6bd-0bd4471dedb3"
      },
      "outputs": [
        {
          "data": {
            "text/plain": [
              "Index(['Cst_Cnt', 'Btl_Cnt', 'Sta_ID', 'Depth_ID', 'Depthm', 'T_degC',\n",
              "       'salinity', 'O2ml_L', 'STheta', 'O2Sat', 'Oxy_µmol/Kg', 'BtlNum',\n",
              "       'RecInd', 'T_prec', 'T_qual', 'S_prec', 'S_qual', 'P_qual', 'O_qual',\n",
              "       'SThtaq', 'O2Satq', 'ChlorA', 'Chlqua', 'Phaeop', 'Phaqua', 'PO4uM',\n",
              "       'PO4q', 'SiO3uM', 'SiO3qu', 'NO2uM', 'NO2q', 'NO3uM', 'NO3q', 'NH3uM',\n",
              "       'NH3q', 'C14As1', 'C14A1p', 'C14A1q', 'C14As2', 'C14A2p', 'C14A2q',\n",
              "       'DarkAs', 'DarkAp', 'DarkAq', 'MeanAs', 'MeanAp', 'MeanAq', 'IncTim',\n",
              "       'LightP', 'R_Depth', 'R_TEMP', 'R_POTEMP', 'R_SALINITY', 'R_SIGMA',\n",
              "       'R_SVA', 'R_DYNHT', 'R_O2', 'R_O2Sat', 'R_SIO3', 'R_PO4', 'R_NO3',\n",
              "       'R_NO2', 'R_NH4', 'R_CHLA', 'R_PHAEO', 'R_PRES', 'R_SAMP', 'DIC1',\n",
              "       'DIC2', 'TA1', 'TA2', 'pH2', 'pH1', 'DIC Quality Comment'],\n",
              "      dtype='object')"
            ]
          },
          "execution_count": 3,
          "metadata": {},
          "output_type": "execute_result"
        }
      ],
      "source": [
        "salinity_df.columns"
      ]
    },
    {
      "cell_type": "markdown",
      "metadata": {
        "id": "iU4WIU5Xl7AM"
      },
      "source": [
        "### Statistical Summary"
      ]
    },
    {
      "cell_type": "code",
      "execution_count": null,
      "metadata": {
        "colab": {
          "base_uri": "https://localhost:8080/",
          "height": 395
        },
        "id": "UGtnW6Wxb_0m",
        "outputId": "3906a0c2-4a7a-4a6a-83a1-ecbca5697279"
      },
      "outputs": [
        {
          "data": {
            "text/html": [
              "\n",
              "  <div id=\"df-060f22bd-3bbc-408a-bbfd-340ebe9c3967\">\n",
              "    <div class=\"colab-df-container\">\n",
              "      <div>\n",
              "<style scoped>\n",
              "    .dataframe tbody tr th:only-of-type {\n",
              "        vertical-align: middle;\n",
              "    }\n",
              "\n",
              "    .dataframe tbody tr th {\n",
              "        vertical-align: top;\n",
              "    }\n",
              "\n",
              "    .dataframe thead th {\n",
              "        text-align: right;\n",
              "    }\n",
              "</style>\n",
              "<table border=\"1\" class=\"dataframe\">\n",
              "  <thead>\n",
              "    <tr style=\"text-align: right;\">\n",
              "      <th></th>\n",
              "      <th>Cst_Cnt</th>\n",
              "      <th>Btl_Cnt</th>\n",
              "      <th>Depthm</th>\n",
              "      <th>T_degC</th>\n",
              "      <th>salinity</th>\n",
              "      <th>O2ml_L</th>\n",
              "      <th>STheta</th>\n",
              "      <th>O2Sat</th>\n",
              "      <th>Oxy_µmol/Kg</th>\n",
              "      <th>BtlNum</th>\n",
              "      <th>RecInd</th>\n",
              "      <th>T_prec</th>\n",
              "      <th>T_qual</th>\n",
              "      <th>S_prec</th>\n",
              "      <th>S_qual</th>\n",
              "      <th>P_qual</th>\n",
              "      <th>O_qual</th>\n",
              "      <th>SThtaq</th>\n",
              "      <th>O2Satq</th>\n",
              "      <th>ChlorA</th>\n",
              "      <th>Chlqua</th>\n",
              "      <th>Phaeop</th>\n",
              "      <th>Phaqua</th>\n",
              "      <th>PO4uM</th>\n",
              "      <th>PO4q</th>\n",
              "      <th>SiO3uM</th>\n",
              "      <th>SiO3qu</th>\n",
              "      <th>NO2uM</th>\n",
              "      <th>NO2q</th>\n",
              "      <th>NO3uM</th>\n",
              "      <th>NO3q</th>\n",
              "      <th>NH3uM</th>\n",
              "      <th>NH3q</th>\n",
              "      <th>C14As1</th>\n",
              "      <th>C14A1p</th>\n",
              "      <th>C14A1q</th>\n",
              "      <th>C14As2</th>\n",
              "      <th>C14A2p</th>\n",
              "      <th>C14A2q</th>\n",
              "      <th>DarkAs</th>\n",
              "      <th>DarkAp</th>\n",
              "      <th>DarkAq</th>\n",
              "      <th>MeanAs</th>\n",
              "      <th>MeanAp</th>\n",
              "      <th>MeanAq</th>\n",
              "      <th>IncTim</th>\n",
              "      <th>LightP</th>\n",
              "      <th>R_Depth</th>\n",
              "      <th>R_TEMP</th>\n",
              "      <th>R_POTEMP</th>\n",
              "      <th>R_SALINITY</th>\n",
              "      <th>R_SIGMA</th>\n",
              "      <th>R_SVA</th>\n",
              "      <th>R_DYNHT</th>\n",
              "      <th>R_O2</th>\n",
              "      <th>R_O2Sat</th>\n",
              "      <th>R_SIO3</th>\n",
              "      <th>R_PO4</th>\n",
              "      <th>R_NO3</th>\n",
              "      <th>R_NO2</th>\n",
              "      <th>R_NH4</th>\n",
              "      <th>R_CHLA</th>\n",
              "      <th>R_PHAEO</th>\n",
              "      <th>R_PRES</th>\n",
              "      <th>R_SAMP</th>\n",
              "      <th>DIC1</th>\n",
              "      <th>DIC2</th>\n",
              "      <th>TA1</th>\n",
              "      <th>TA2</th>\n",
              "      <th>pH2</th>\n",
              "      <th>pH1</th>\n",
              "      <th>DIC Quality Comment</th>\n",
              "    </tr>\n",
              "  </thead>\n",
              "  <tbody>\n",
              "    <tr>\n",
              "      <th>count</th>\n",
              "      <td>149997.000000</td>\n",
              "      <td>149997.000000</td>\n",
              "      <td>149997.000000</td>\n",
              "      <td>145390.000000</td>\n",
              "      <td>117589.000000</td>\n",
              "      <td>128474.000000</td>\n",
              "      <td>115076.000000</td>\n",
              "      <td>102277.000000</td>\n",
              "      <td>102277.000000</td>\n",
              "      <td>0.0</td>\n",
              "      <td>149997.000000</td>\n",
              "      <td>145390.000000</td>\n",
              "      <td>4818.000000</td>\n",
              "      <td>117589.000000</td>\n",
              "      <td>33133.000000</td>\n",
              "      <td>149997.0</td>\n",
              "      <td>22119.000000</td>\n",
              "      <td>35803.000000</td>\n",
              "      <td>48796.000000</td>\n",
              "      <td>0.0</td>\n",
              "      <td>149997.0</td>\n",
              "      <td>0.0</td>\n",
              "      <td>149997.0</td>\n",
              "      <td>56437.000000</td>\n",
              "      <td>93560.0</td>\n",
              "      <td>0.0</td>\n",
              "      <td>149997.0</td>\n",
              "      <td>0.0</td>\n",
              "      <td>149997.0</td>\n",
              "      <td>0.0</td>\n",
              "      <td>149997.0</td>\n",
              "      <td>0.0</td>\n",
              "      <td>149997.0</td>\n",
              "      <td>0.0</td>\n",
              "      <td>0.0</td>\n",
              "      <td>149997.0</td>\n",
              "      <td>0.0</td>\n",
              "      <td>0.0</td>\n",
              "      <td>149997.0</td>\n",
              "      <td>0.0</td>\n",
              "      <td>0.0</td>\n",
              "      <td>149997.0</td>\n",
              "      <td>0.0</td>\n",
              "      <td>0.0</td>\n",
              "      <td>149997.0</td>\n",
              "      <td>0.0</td>\n",
              "      <td>0.0</td>\n",
              "      <td>149997.000000</td>\n",
              "      <td>145390.000000</td>\n",
              "      <td>115238.000000</td>\n",
              "      <td>117589.000000</td>\n",
              "      <td>114194.000000</td>\n",
              "      <td>114194.000000</td>\n",
              "      <td>117847.000000</td>\n",
              "      <td>128474.000000</td>\n",
              "      <td>103713.000000</td>\n",
              "      <td>0.0</td>\n",
              "      <td>56437.000000</td>\n",
              "      <td>0.0</td>\n",
              "      <td>0.0</td>\n",
              "      <td>0.0</td>\n",
              "      <td>0.0</td>\n",
              "      <td>0.0</td>\n",
              "      <td>149997.000000</td>\n",
              "      <td>0.0</td>\n",
              "      <td>0.0</td>\n",
              "      <td>0.0</td>\n",
              "      <td>0.0</td>\n",
              "      <td>0.0</td>\n",
              "      <td>0.0</td>\n",
              "      <td>0.0</td>\n",
              "      <td>0.0</td>\n",
              "    </tr>\n",
              "    <tr>\n",
              "      <th>mean</th>\n",
              "      <td>2604.641613</td>\n",
              "      <td>75002.000000</td>\n",
              "      <td>324.763889</td>\n",
              "      <td>9.513029</td>\n",
              "      <td>33.874512</td>\n",
              "      <td>2.879955</td>\n",
              "      <td>26.042588</td>\n",
              "      <td>48.096165</td>\n",
              "      <td>127.067193</td>\n",
              "      <td>NaN</td>\n",
              "      <td>5.054094</td>\n",
              "      <td>2.014478</td>\n",
              "      <td>8.956206</td>\n",
              "      <td>2.505898</td>\n",
              "      <td>8.978118</td>\n",
              "      <td>9.0</td>\n",
              "      <td>8.973055</td>\n",
              "      <td>8.975365</td>\n",
              "      <td>8.977949</td>\n",
              "      <td>NaN</td>\n",
              "      <td>9.0</td>\n",
              "      <td>NaN</td>\n",
              "      <td>9.0</td>\n",
              "      <td>2.027097</td>\n",
              "      <td>9.0</td>\n",
              "      <td>NaN</td>\n",
              "      <td>9.0</td>\n",
              "      <td>NaN</td>\n",
              "      <td>9.0</td>\n",
              "      <td>NaN</td>\n",
              "      <td>9.0</td>\n",
              "      <td>NaN</td>\n",
              "      <td>9.0</td>\n",
              "      <td>NaN</td>\n",
              "      <td>NaN</td>\n",
              "      <td>9.0</td>\n",
              "      <td>NaN</td>\n",
              "      <td>NaN</td>\n",
              "      <td>9.0</td>\n",
              "      <td>NaN</td>\n",
              "      <td>NaN</td>\n",
              "      <td>9.0</td>\n",
              "      <td>NaN</td>\n",
              "      <td>NaN</td>\n",
              "      <td>9.0</td>\n",
              "      <td>NaN</td>\n",
              "      <td>NaN</td>\n",
              "      <td>324.763889</td>\n",
              "      <td>9.513029</td>\n",
              "      <td>9.639484</td>\n",
              "      <td>33.874257</td>\n",
              "      <td>26.035362</td>\n",
              "      <td>200.205945</td>\n",
              "      <td>0.542172</td>\n",
              "      <td>2.879955</td>\n",
              "      <td>48.663676</td>\n",
              "      <td>NaN</td>\n",
              "      <td>2.027097</td>\n",
              "      <td>NaN</td>\n",
              "      <td>NaN</td>\n",
              "      <td>NaN</td>\n",
              "      <td>NaN</td>\n",
              "      <td>NaN</td>\n",
              "      <td>327.247672</td>\n",
              "      <td>NaN</td>\n",
              "      <td>NaN</td>\n",
              "      <td>NaN</td>\n",
              "      <td>NaN</td>\n",
              "      <td>NaN</td>\n",
              "      <td>NaN</td>\n",
              "      <td>NaN</td>\n",
              "      <td>NaN</td>\n",
              "    </tr>\n",
              "    <tr>\n",
              "      <th>std</th>\n",
              "      <td>1610.351641</td>\n",
              "      <td>43300.548501</td>\n",
              "      <td>370.747096</td>\n",
              "      <td>4.392575</td>\n",
              "      <td>0.508466</td>\n",
              "      <td>2.145869</td>\n",
              "      <td>1.063970</td>\n",
              "      <td>37.726776</td>\n",
              "      <td>93.779254</td>\n",
              "      <td>NaN</td>\n",
              "      <td>1.999275</td>\n",
              "      <td>0.155345</td>\n",
              "      <td>0.204658</td>\n",
              "      <td>0.499967</td>\n",
              "      <td>0.146299</td>\n",
              "      <td>0.0</td>\n",
              "      <td>0.161927</td>\n",
              "      <td>0.155012</td>\n",
              "      <td>0.146851</td>\n",
              "      <td>NaN</td>\n",
              "      <td>0.0</td>\n",
              "      <td>NaN</td>\n",
              "      <td>0.0</td>\n",
              "      <td>1.105452</td>\n",
              "      <td>0.0</td>\n",
              "      <td>NaN</td>\n",
              "      <td>0.0</td>\n",
              "      <td>NaN</td>\n",
              "      <td>0.0</td>\n",
              "      <td>NaN</td>\n",
              "      <td>0.0</td>\n",
              "      <td>NaN</td>\n",
              "      <td>0.0</td>\n",
              "      <td>NaN</td>\n",
              "      <td>NaN</td>\n",
              "      <td>0.0</td>\n",
              "      <td>NaN</td>\n",
              "      <td>NaN</td>\n",
              "      <td>0.0</td>\n",
              "      <td>NaN</td>\n",
              "      <td>NaN</td>\n",
              "      <td>0.0</td>\n",
              "      <td>NaN</td>\n",
              "      <td>NaN</td>\n",
              "      <td>0.0</td>\n",
              "      <td>NaN</td>\n",
              "      <td>NaN</td>\n",
              "      <td>370.747096</td>\n",
              "      <td>4.392575</td>\n",
              "      <td>4.422258</td>\n",
              "      <td>0.515594</td>\n",
              "      <td>1.063600</td>\n",
              "      <td>98.325922</td>\n",
              "      <td>0.455828</td>\n",
              "      <td>2.145869</td>\n",
              "      <td>37.834793</td>\n",
              "      <td>NaN</td>\n",
              "      <td>1.105452</td>\n",
              "      <td>NaN</td>\n",
              "      <td>NaN</td>\n",
              "      <td>NaN</td>\n",
              "      <td>NaN</td>\n",
              "      <td>NaN</td>\n",
              "      <td>374.388036</td>\n",
              "      <td>NaN</td>\n",
              "      <td>NaN</td>\n",
              "      <td>NaN</td>\n",
              "      <td>NaN</td>\n",
              "      <td>NaN</td>\n",
              "      <td>NaN</td>\n",
              "      <td>NaN</td>\n",
              "      <td>NaN</td>\n",
              "    </tr>\n",
              "    <tr>\n",
              "      <th>min</th>\n",
              "      <td>1.000000</td>\n",
              "      <td>4.000000</td>\n",
              "      <td>0.000000</td>\n",
              "      <td>1.540000</td>\n",
              "      <td>30.250000</td>\n",
              "      <td>0.000000</td>\n",
              "      <td>21.713000</td>\n",
              "      <td>0.000000</td>\n",
              "      <td>0.000000</td>\n",
              "      <td>NaN</td>\n",
              "      <td>3.000000</td>\n",
              "      <td>1.000000</td>\n",
              "      <td>8.000000</td>\n",
              "      <td>2.000000</td>\n",
              "      <td>8.000000</td>\n",
              "      <td>9.0</td>\n",
              "      <td>8.000000</td>\n",
              "      <td>8.000000</td>\n",
              "      <td>8.000000</td>\n",
              "      <td>NaN</td>\n",
              "      <td>9.0</td>\n",
              "      <td>NaN</td>\n",
              "      <td>9.0</td>\n",
              "      <td>0.020000</td>\n",
              "      <td>9.0</td>\n",
              "      <td>NaN</td>\n",
              "      <td>9.0</td>\n",
              "      <td>NaN</td>\n",
              "      <td>9.0</td>\n",
              "      <td>NaN</td>\n",
              "      <td>9.0</td>\n",
              "      <td>NaN</td>\n",
              "      <td>9.0</td>\n",
              "      <td>NaN</td>\n",
              "      <td>NaN</td>\n",
              "      <td>9.0</td>\n",
              "      <td>NaN</td>\n",
              "      <td>NaN</td>\n",
              "      <td>9.0</td>\n",
              "      <td>NaN</td>\n",
              "      <td>NaN</td>\n",
              "      <td>9.0</td>\n",
              "      <td>NaN</td>\n",
              "      <td>NaN</td>\n",
              "      <td>9.0</td>\n",
              "      <td>NaN</td>\n",
              "      <td>NaN</td>\n",
              "      <td>0.000000</td>\n",
              "      <td>1.540000</td>\n",
              "      <td>1.240000</td>\n",
              "      <td>4.570000</td>\n",
              "      <td>21.710000</td>\n",
              "      <td>38.800000</td>\n",
              "      <td>0.000000</td>\n",
              "      <td>0.000000</td>\n",
              "      <td>0.000000</td>\n",
              "      <td>NaN</td>\n",
              "      <td>0.020000</td>\n",
              "      <td>NaN</td>\n",
              "      <td>NaN</td>\n",
              "      <td>NaN</td>\n",
              "      <td>NaN</td>\n",
              "      <td>NaN</td>\n",
              "      <td>0.000000</td>\n",
              "      <td>NaN</td>\n",
              "      <td>NaN</td>\n",
              "      <td>NaN</td>\n",
              "      <td>NaN</td>\n",
              "      <td>NaN</td>\n",
              "      <td>NaN</td>\n",
              "      <td>NaN</td>\n",
              "      <td>NaN</td>\n",
              "    </tr>\n",
              "    <tr>\n",
              "      <th>25%</th>\n",
              "      <td>1212.000000</td>\n",
              "      <td>37503.000000</td>\n",
              "      <td>50.000000</td>\n",
              "      <td>5.940000</td>\n",
              "      <td>33.480000</td>\n",
              "      <td>0.650000</td>\n",
              "      <td>25.125000</td>\n",
              "      <td>9.500000</td>\n",
              "      <td>29.152720</td>\n",
              "      <td>NaN</td>\n",
              "      <td>3.000000</td>\n",
              "      <td>2.000000</td>\n",
              "      <td>9.000000</td>\n",
              "      <td>2.000000</td>\n",
              "      <td>9.000000</td>\n",
              "      <td>9.0</td>\n",
              "      <td>9.000000</td>\n",
              "      <td>9.000000</td>\n",
              "      <td>9.000000</td>\n",
              "      <td>NaN</td>\n",
              "      <td>9.0</td>\n",
              "      <td>NaN</td>\n",
              "      <td>9.0</td>\n",
              "      <td>0.750000</td>\n",
              "      <td>9.0</td>\n",
              "      <td>NaN</td>\n",
              "      <td>9.0</td>\n",
              "      <td>NaN</td>\n",
              "      <td>9.0</td>\n",
              "      <td>NaN</td>\n",
              "      <td>9.0</td>\n",
              "      <td>NaN</td>\n",
              "      <td>9.0</td>\n",
              "      <td>NaN</td>\n",
              "      <td>NaN</td>\n",
              "      <td>9.0</td>\n",
              "      <td>NaN</td>\n",
              "      <td>NaN</td>\n",
              "      <td>9.0</td>\n",
              "      <td>NaN</td>\n",
              "      <td>NaN</td>\n",
              "      <td>9.0</td>\n",
              "      <td>NaN</td>\n",
              "      <td>NaN</td>\n",
              "      <td>9.0</td>\n",
              "      <td>NaN</td>\n",
              "      <td>NaN</td>\n",
              "      <td>50.000000</td>\n",
              "      <td>5.940000</td>\n",
              "      <td>6.090000</td>\n",
              "      <td>33.480000</td>\n",
              "      <td>25.120000</td>\n",
              "      <td>117.000000</td>\n",
              "      <td>0.160000</td>\n",
              "      <td>0.650000</td>\n",
              "      <td>9.700000</td>\n",
              "      <td>NaN</td>\n",
              "      <td>0.750000</td>\n",
              "      <td>NaN</td>\n",
              "      <td>NaN</td>\n",
              "      <td>NaN</td>\n",
              "      <td>NaN</td>\n",
              "      <td>NaN</td>\n",
              "      <td>50.000000</td>\n",
              "      <td>NaN</td>\n",
              "      <td>NaN</td>\n",
              "      <td>NaN</td>\n",
              "      <td>NaN</td>\n",
              "      <td>NaN</td>\n",
              "      <td>NaN</td>\n",
              "      <td>NaN</td>\n",
              "      <td>NaN</td>\n",
              "    </tr>\n",
              "    <tr>\n",
              "      <th>50%</th>\n",
              "      <td>2508.000000</td>\n",
              "      <td>75002.000000</td>\n",
              "      <td>178.000000</td>\n",
              "      <td>8.860000</td>\n",
              "      <td>33.964000</td>\n",
              "      <td>2.540000</td>\n",
              "      <td>26.317000</td>\n",
              "      <td>39.400000</td>\n",
              "      <td>112.698300</td>\n",
              "      <td>NaN</td>\n",
              "      <td>7.000000</td>\n",
              "      <td>2.000000</td>\n",
              "      <td>9.000000</td>\n",
              "      <td>3.000000</td>\n",
              "      <td>9.000000</td>\n",
              "      <td>9.0</td>\n",
              "      <td>9.000000</td>\n",
              "      <td>9.000000</td>\n",
              "      <td>9.000000</td>\n",
              "      <td>NaN</td>\n",
              "      <td>9.0</td>\n",
              "      <td>NaN</td>\n",
              "      <td>9.0</td>\n",
              "      <td>2.300000</td>\n",
              "      <td>9.0</td>\n",
              "      <td>NaN</td>\n",
              "      <td>9.0</td>\n",
              "      <td>NaN</td>\n",
              "      <td>9.0</td>\n",
              "      <td>NaN</td>\n",
              "      <td>9.0</td>\n",
              "      <td>NaN</td>\n",
              "      <td>9.0</td>\n",
              "      <td>NaN</td>\n",
              "      <td>NaN</td>\n",
              "      <td>9.0</td>\n",
              "      <td>NaN</td>\n",
              "      <td>NaN</td>\n",
              "      <td>9.0</td>\n",
              "      <td>NaN</td>\n",
              "      <td>NaN</td>\n",
              "      <td>9.0</td>\n",
              "      <td>NaN</td>\n",
              "      <td>NaN</td>\n",
              "      <td>9.0</td>\n",
              "      <td>NaN</td>\n",
              "      <td>NaN</td>\n",
              "      <td>178.000000</td>\n",
              "      <td>8.860000</td>\n",
              "      <td>8.950000</td>\n",
              "      <td>33.964000</td>\n",
              "      <td>26.310000</td>\n",
              "      <td>173.200000</td>\n",
              "      <td>0.420000</td>\n",
              "      <td>2.540000</td>\n",
              "      <td>40.500000</td>\n",
              "      <td>NaN</td>\n",
              "      <td>2.300000</td>\n",
              "      <td>NaN</td>\n",
              "      <td>NaN</td>\n",
              "      <td>NaN</td>\n",
              "      <td>NaN</td>\n",
              "      <td>NaN</td>\n",
              "      <td>179.000000</td>\n",
              "      <td>NaN</td>\n",
              "      <td>NaN</td>\n",
              "      <td>NaN</td>\n",
              "      <td>NaN</td>\n",
              "      <td>NaN</td>\n",
              "      <td>NaN</td>\n",
              "      <td>NaN</td>\n",
              "      <td>NaN</td>\n",
              "    </tr>\n",
              "    <tr>\n",
              "      <th>75%</th>\n",
              "      <td>3927.000000</td>\n",
              "      <td>112501.000000</td>\n",
              "      <td>500.000000</td>\n",
              "      <td>12.470000</td>\n",
              "      <td>34.322000</td>\n",
              "      <td>5.170000</td>\n",
              "      <td>26.948000</td>\n",
              "      <td>89.900000</td>\n",
              "      <td>227.461000</td>\n",
              "      <td>NaN</td>\n",
              "      <td>7.000000</td>\n",
              "      <td>2.000000</td>\n",
              "      <td>9.000000</td>\n",
              "      <td>3.000000</td>\n",
              "      <td>9.000000</td>\n",
              "      <td>9.0</td>\n",
              "      <td>9.000000</td>\n",
              "      <td>9.000000</td>\n",
              "      <td>9.000000</td>\n",
              "      <td>NaN</td>\n",
              "      <td>9.0</td>\n",
              "      <td>NaN</td>\n",
              "      <td>9.0</td>\n",
              "      <td>3.060000</td>\n",
              "      <td>9.0</td>\n",
              "      <td>NaN</td>\n",
              "      <td>9.0</td>\n",
              "      <td>NaN</td>\n",
              "      <td>9.0</td>\n",
              "      <td>NaN</td>\n",
              "      <td>9.0</td>\n",
              "      <td>NaN</td>\n",
              "      <td>9.0</td>\n",
              "      <td>NaN</td>\n",
              "      <td>NaN</td>\n",
              "      <td>9.0</td>\n",
              "      <td>NaN</td>\n",
              "      <td>NaN</td>\n",
              "      <td>9.0</td>\n",
              "      <td>NaN</td>\n",
              "      <td>NaN</td>\n",
              "      <td>9.0</td>\n",
              "      <td>NaN</td>\n",
              "      <td>NaN</td>\n",
              "      <td>9.0</td>\n",
              "      <td>NaN</td>\n",
              "      <td>NaN</td>\n",
              "      <td>500.000000</td>\n",
              "      <td>12.470000</td>\n",
              "      <td>12.710000</td>\n",
              "      <td>34.322000</td>\n",
              "      <td>26.940000</td>\n",
              "      <td>284.500000</td>\n",
              "      <td>0.850000</td>\n",
              "      <td>5.170000</td>\n",
              "      <td>90.600000</td>\n",
              "      <td>NaN</td>\n",
              "      <td>3.060000</td>\n",
              "      <td>NaN</td>\n",
              "      <td>NaN</td>\n",
              "      <td>NaN</td>\n",
              "      <td>NaN</td>\n",
              "      <td>NaN</td>\n",
              "      <td>503.000000</td>\n",
              "      <td>NaN</td>\n",
              "      <td>NaN</td>\n",
              "      <td>NaN</td>\n",
              "      <td>NaN</td>\n",
              "      <td>NaN</td>\n",
              "      <td>NaN</td>\n",
              "      <td>NaN</td>\n",
              "      <td>NaN</td>\n",
              "    </tr>\n",
              "    <tr>\n",
              "      <th>max</th>\n",
              "      <td>5676.000000</td>\n",
              "      <td>150000.000000</td>\n",
              "      <td>3762.000000</td>\n",
              "      <td>28.540000</td>\n",
              "      <td>35.280000</td>\n",
              "      <td>8.710000</td>\n",
              "      <td>28.083000</td>\n",
              "      <td>143.400000</td>\n",
              "      <td>380.014900</td>\n",
              "      <td>NaN</td>\n",
              "      <td>7.000000</td>\n",
              "      <td>3.000000</td>\n",
              "      <td>9.000000</td>\n",
              "      <td>3.000000</td>\n",
              "      <td>9.000000</td>\n",
              "      <td>9.0</td>\n",
              "      <td>9.000000</td>\n",
              "      <td>9.000000</td>\n",
              "      <td>9.000000</td>\n",
              "      <td>NaN</td>\n",
              "      <td>9.0</td>\n",
              "      <td>NaN</td>\n",
              "      <td>9.0</td>\n",
              "      <td>4.020000</td>\n",
              "      <td>9.0</td>\n",
              "      <td>NaN</td>\n",
              "      <td>9.0</td>\n",
              "      <td>NaN</td>\n",
              "      <td>9.0</td>\n",
              "      <td>NaN</td>\n",
              "      <td>9.0</td>\n",
              "      <td>NaN</td>\n",
              "      <td>9.0</td>\n",
              "      <td>NaN</td>\n",
              "      <td>NaN</td>\n",
              "      <td>9.0</td>\n",
              "      <td>NaN</td>\n",
              "      <td>NaN</td>\n",
              "      <td>9.0</td>\n",
              "      <td>NaN</td>\n",
              "      <td>NaN</td>\n",
              "      <td>9.0</td>\n",
              "      <td>NaN</td>\n",
              "      <td>NaN</td>\n",
              "      <td>9.0</td>\n",
              "      <td>NaN</td>\n",
              "      <td>NaN</td>\n",
              "      <td>3762.000000</td>\n",
              "      <td>28.540000</td>\n",
              "      <td>28.540000</td>\n",
              "      <td>35.280000</td>\n",
              "      <td>27.820000</td>\n",
              "      <td>608.700000</td>\n",
              "      <td>2.960000</td>\n",
              "      <td>8.710000</td>\n",
              "      <td>143.400000</td>\n",
              "      <td>NaN</td>\n",
              "      <td>4.020000</td>\n",
              "      <td>NaN</td>\n",
              "      <td>NaN</td>\n",
              "      <td>NaN</td>\n",
              "      <td>NaN</td>\n",
              "      <td>NaN</td>\n",
              "      <td>3818.000000</td>\n",
              "      <td>NaN</td>\n",
              "      <td>NaN</td>\n",
              "      <td>NaN</td>\n",
              "      <td>NaN</td>\n",
              "      <td>NaN</td>\n",
              "      <td>NaN</td>\n",
              "      <td>NaN</td>\n",
              "      <td>NaN</td>\n",
              "    </tr>\n",
              "  </tbody>\n",
              "</table>\n",
              "</div>\n",
              "      <button class=\"colab-df-convert\" onclick=\"convertToInteractive('df-060f22bd-3bbc-408a-bbfd-340ebe9c3967')\"\n",
              "              title=\"Convert this dataframe to an interactive table.\"\n",
              "              style=\"display:none;\">\n",
              "        \n",
              "  <svg xmlns=\"http://www.w3.org/2000/svg\" height=\"24px\"viewBox=\"0 0 24 24\"\n",
              "       width=\"24px\">\n",
              "    <path d=\"M0 0h24v24H0V0z\" fill=\"none\"/>\n",
              "    <path d=\"M18.56 5.44l.94 2.06.94-2.06 2.06-.94-2.06-.94-.94-2.06-.94 2.06-2.06.94zm-11 1L8.5 8.5l.94-2.06 2.06-.94-2.06-.94L8.5 2.5l-.94 2.06-2.06.94zm10 10l.94 2.06.94-2.06 2.06-.94-2.06-.94-.94-2.06-.94 2.06-2.06.94z\"/><path d=\"M17.41 7.96l-1.37-1.37c-.4-.4-.92-.59-1.43-.59-.52 0-1.04.2-1.43.59L10.3 9.45l-7.72 7.72c-.78.78-.78 2.05 0 2.83L4 21.41c.39.39.9.59 1.41.59.51 0 1.02-.2 1.41-.59l7.78-7.78 2.81-2.81c.8-.78.8-2.07 0-2.86zM5.41 20L4 18.59l7.72-7.72 1.47 1.35L5.41 20z\"/>\n",
              "  </svg>\n",
              "      </button>\n",
              "      \n",
              "  <style>\n",
              "    .colab-df-container {\n",
              "      display:flex;\n",
              "      flex-wrap:wrap;\n",
              "      gap: 12px;\n",
              "    }\n",
              "\n",
              "    .colab-df-convert {\n",
              "      background-color: #E8F0FE;\n",
              "      border: none;\n",
              "      border-radius: 50%;\n",
              "      cursor: pointer;\n",
              "      display: none;\n",
              "      fill: #1967D2;\n",
              "      height: 32px;\n",
              "      padding: 0 0 0 0;\n",
              "      width: 32px;\n",
              "    }\n",
              "\n",
              "    .colab-df-convert:hover {\n",
              "      background-color: #E2EBFA;\n",
              "      box-shadow: 0px 1px 2px rgba(60, 64, 67, 0.3), 0px 1px 3px 1px rgba(60, 64, 67, 0.15);\n",
              "      fill: #174EA6;\n",
              "    }\n",
              "\n",
              "    [theme=dark] .colab-df-convert {\n",
              "      background-color: #3B4455;\n",
              "      fill: #D2E3FC;\n",
              "    }\n",
              "\n",
              "    [theme=dark] .colab-df-convert:hover {\n",
              "      background-color: #434B5C;\n",
              "      box-shadow: 0px 1px 3px 1px rgba(0, 0, 0, 0.15);\n",
              "      filter: drop-shadow(0px 1px 2px rgba(0, 0, 0, 0.3));\n",
              "      fill: #FFFFFF;\n",
              "    }\n",
              "  </style>\n",
              "\n",
              "      <script>\n",
              "        const buttonEl =\n",
              "          document.querySelector('#df-060f22bd-3bbc-408a-bbfd-340ebe9c3967 button.colab-df-convert');\n",
              "        buttonEl.style.display =\n",
              "          google.colab.kernel.accessAllowed ? 'block' : 'none';\n",
              "\n",
              "        async function convertToInteractive(key) {\n",
              "          const element = document.querySelector('#df-060f22bd-3bbc-408a-bbfd-340ebe9c3967');\n",
              "          const dataTable =\n",
              "            await google.colab.kernel.invokeFunction('convertToInteractive',\n",
              "                                                     [key], {});\n",
              "          if (!dataTable) return;\n",
              "\n",
              "          const docLinkHtml = 'Like what you see? Visit the ' +\n",
              "            '<a target=\"_blank\" href=https://colab.research.google.com/notebooks/data_table.ipynb>data table notebook</a>'\n",
              "            + ' to learn more about interactive tables.';\n",
              "          element.innerHTML = '';\n",
              "          dataTable['output_type'] = 'display_data';\n",
              "          await google.colab.output.renderOutput(dataTable, element);\n",
              "          const docLink = document.createElement('div');\n",
              "          docLink.innerHTML = docLinkHtml;\n",
              "          element.appendChild(docLink);\n",
              "        }\n",
              "      </script>\n",
              "    </div>\n",
              "  </div>\n",
              "  "
            ],
            "text/plain": [
              "             Cst_Cnt        Btl_Cnt  ...  pH1  DIC Quality Comment\n",
              "count  149997.000000  149997.000000  ...  0.0                  0.0\n",
              "mean     2604.641613   75002.000000  ...  NaN                  NaN\n",
              "std      1610.351641   43300.548501  ...  NaN                  NaN\n",
              "min         1.000000       4.000000  ...  NaN                  NaN\n",
              "25%      1212.000000   37503.000000  ...  NaN                  NaN\n",
              "50%      2508.000000   75002.000000  ...  NaN                  NaN\n",
              "75%      3927.000000  112501.000000  ...  NaN                  NaN\n",
              "max      5676.000000  150000.000000  ...  NaN                  NaN\n",
              "\n",
              "[8 rows x 72 columns]"
            ]
          },
          "execution_count": 4,
          "metadata": {},
          "output_type": "execute_result"
        }
      ],
      "source": [
        "# Select a random subset from the complete dataset\n",
        "salinity_df = salinity_df.iloc[1:150000]\n",
        "salinity_df.rename(columns={'Salnty':'salinity'}, inplace=True)\n",
        "salinity_df.describe()"
      ]
    },
    {
      "cell_type": "markdown",
      "metadata": {
        "id": "TIcp8Uc5l9q7"
      },
      "source": [
        "### Data Cleaning\n",
        "Cleaning up the NULL and duplicate values in the dataset:\n",
        "1. Check for NULL percentages\n",
        "2. Drop attributes with more than 30% data missing\n",
        "3. Fill remaining NULLs with mean values\n",
        "4. Re-check NULL Percentages\n",
        "5. Check for duplicates"
      ]
    },
    {
      "cell_type": "markdown",
      "metadata": {
        "id": "69ZSd_8bmSoh"
      },
      "source": [
        "Check for NULL percentages"
      ]
    },
    {
      "cell_type": "code",
      "execution_count": null,
      "metadata": {
        "colab": {
          "base_uri": "https://localhost:8080/"
        },
        "id": "r3Cf4vjfmThW",
        "outputId": "0f9b6051-bcd7-4219-d482-312b6b0107cf"
      },
      "outputs": [
        {
          "name": "stdout",
          "output_type": "stream",
          "text": [
            "                   Attr   Total  Percent\n",
            "0   DIC Quality Comment  149997   100.00\n",
            "1                  DIC1  149997   100.00\n",
            "2                SiO3uM  149997   100.00\n",
            "3                 NO2uM  149997   100.00\n",
            "4               R_PHAEO  149997   100.00\n",
            "5                 NO3uM  149997   100.00\n",
            "6                R_CHLA  149997   100.00\n",
            "7                 NH3uM  149997   100.00\n",
            "8                 R_NH4  149997   100.00\n",
            "9                C14As1  149997   100.00\n",
            "10               C14A1p  149997   100.00\n",
            "11                R_NO2  149997   100.00\n",
            "12               C14As2  149997   100.00\n",
            "13               C14A2p  149997   100.00\n",
            "14                R_NO3  149997   100.00\n",
            "15               DarkAs  149997   100.00\n",
            "16               DarkAp  149997   100.00\n",
            "17               MeanAs  149997   100.00\n",
            "18               MeanAp  149997   100.00\n",
            "19               R_SIO3  149997   100.00\n",
            "20               IncTim  149997   100.00\n",
            "21               Phaeop  149997   100.00\n",
            "22               R_SAMP  149997   100.00\n",
            "23               ChlorA  149997   100.00\n",
            "24                 DIC2  149997   100.00\n",
            "25                  pH1  149997   100.00\n",
            "26                  pH2  149997   100.00\n",
            "27                  TA2  149997   100.00\n",
            "28               BtlNum  149997   100.00\n",
            "29                  TA1  149997   100.00\n",
            "30               LightP  149997   100.00\n",
            "31               T_qual  145179    96.79\n",
            "32               O_qual  127878    85.25\n",
            "33               S_qual  116864    77.91\n",
            "34               SThtaq  114194    76.13\n",
            "35               O2Satq  101201    67.47\n",
            "36                R_PO4   93560    62.37\n",
            "37                PO4uM   93560    62.37\n",
            "38                 PO4q   56437    37.63\n",
            "39          Oxy_µmol/Kg   47720    31.81\n",
            "40                O2Sat   47720    31.81\n",
            "41              R_O2Sat   46284    30.86\n",
            "42              R_SIGMA   35803    23.87\n",
            "43                R_SVA   35803    23.87\n",
            "44               STheta   34921    23.28\n",
            "45             R_POTEMP   34759    23.17\n",
            "46               S_prec   32408    21.61\n",
            "47           R_SALINITY   32408    21.61\n",
            "48             salinity   32408    21.61\n",
            "49              R_DYNHT   32150    21.43\n"
          ]
        }
      ],
      "source": [
        "nulls = salinity_df.isnull().sum().sort_values(ascending = False)\n",
        "prcet = round(nulls/len(salinity_df)*100,2)\n",
        "\n",
        "salinity_df_null = pd.DataFrame(columns =  ['Attr','Total','Percent'])\n",
        "salinity_df_null.Attr  = nulls.index\n",
        "salinity_df_null.Total = nulls.values\n",
        "salinity_df_null.Percent = prcet.values\n",
        "print(salinity_df_null.head(50))"
      ]
    },
    {
      "cell_type": "markdown",
      "metadata": {
        "id": "Scd7KGq0mkka"
      },
      "source": [
        "Drop attributes with more than 30% data missing"
      ]
    },
    {
      "cell_type": "code",
      "execution_count": null,
      "metadata": {
        "id": "DcQEwJ-xmlv8"
      },
      "outputs": [],
      "source": [
        "for i in salinity_df_null.Attr[salinity_df_null['Percent'] > 30]:\n",
        "    salinity_df = salinity_df.drop([i], axis=1)"
      ]
    },
    {
      "cell_type": "markdown",
      "metadata": {
        "id": "VzbtG-msmpKN"
      },
      "source": [
        "Fill remaining NULLs with mode values"
      ]
    },
    {
      "cell_type": "code",
      "execution_count": null,
      "metadata": {
        "id": "Xu35_pSEmp67"
      },
      "outputs": [],
      "source": [
        "for i in salinity_df.columns:\n",
        "    if salinity_df[i].isnull().sum() > 0:\n",
        "        salinity_df[i].fillna(salinity_df[i].mode().mean(), inplace=True)"
      ]
    },
    {
      "cell_type": "markdown",
      "metadata": {
        "id": "TsGEUUKGms2V"
      },
      "source": [
        "Re-check NULL Percentages"
      ]
    },
    {
      "cell_type": "code",
      "execution_count": null,
      "metadata": {
        "colab": {
          "base_uri": "https://localhost:8080/"
        },
        "id": "C6n9pu76muN-",
        "outputId": "e0907b19-462a-491a-e8b6-eff26a7ed8a6"
      },
      "outputs": [
        {
          "name": "stdout",
          "output_type": "stream",
          "text": [
            "      Attr  Total  Percent\n",
            "0  Cst_Cnt      0      0.0\n",
            "1  Btl_Cnt      0      0.0\n",
            "2     R_O2      0      0.0\n",
            "3  R_DYNHT      0      0.0\n",
            "4    R_SVA      0      0.0\n"
          ]
        }
      ],
      "source": [
        "nulls = salinity_df.isnull().sum().sort_values(ascending = False)\n",
        "prcet = round(nulls/len(salinity_df)*100,2)\n",
        "\n",
        "salinity_df_null = pd.DataFrame(columns =  ['Attr','Total','Percent'])\n",
        "salinity_df_null.Attr  = nulls.index\n",
        "salinity_df_null.Total = nulls.values\n",
        "salinity_df_null.Percent = prcet.values\n",
        "print(salinity_df_null.head())"
      ]
    },
    {
      "cell_type": "code",
      "execution_count": null,
      "metadata": {
        "colab": {
          "base_uri": "https://localhost:8080/"
        },
        "id": "8R1qvdT11oHM",
        "outputId": "57ac3da1-3db6-4a20-cf45-ecf535c819e9"
      },
      "outputs": [
        {
          "name": "stdout",
          "output_type": "stream",
          "text": [
            "<class 'pandas.core.frame.DataFrame'>\n",
            "RangeIndex: 32 entries, 0 to 31\n",
            "Data columns (total 3 columns):\n",
            " #   Column   Non-Null Count  Dtype  \n",
            "---  ------   --------------  -----  \n",
            " 0   Attr     32 non-null     object \n",
            " 1   Total    32 non-null     int64  \n",
            " 2   Percent  32 non-null     float64\n",
            "dtypes: float64(1), int64(1), object(1)\n",
            "memory usage: 896.0+ bytes\n"
          ]
        }
      ],
      "source": [
        "salinity_df_null.info()"
      ]
    },
    {
      "cell_type": "markdown",
      "metadata": {
        "id": "JUQCSM3Vmwzs"
      },
      "source": [
        "Check for Duplicated values"
      ]
    },
    {
      "cell_type": "code",
      "execution_count": null,
      "metadata": {
        "colab": {
          "base_uri": "https://localhost:8080/"
        },
        "id": "PQUkV0vEmywX",
        "outputId": "e22bfade-652a-4f8b-b067-d50a8fe91261"
      },
      "outputs": [
        {
          "name": "stdout",
          "output_type": "stream",
          "text": [
            "COUNT OF DUPLICATES:  0\n"
          ]
        }
      ],
      "source": [
        "print('COUNT OF DUPLICATES:  {}'.format(salinity_df.duplicated().sum()))"
      ]
    },
    {
      "cell_type": "markdown",
      "metadata": {
        "id": "D8Htxu6gnB6l"
      },
      "source": [
        "### Drop columns that cannot be Normalized \n",
        "* Cst_Cnt Auto-numbered Cast Count\n",
        "* Btl_Cnt Auto-numbered Bottle count\n",
        "* Sta_ID CalCOFI Line and Station\n",
        "* Depth_ID [Century]-[YY][MM][ShipCode]"
      ]
    },
    {
      "cell_type": "code",
      "execution_count": null,
      "metadata": {
        "id": "hRXkb-_qnEbm"
      },
      "outputs": [],
      "source": [
        "drop_cols = ['Cst_Cnt', 'Btl_Cnt', 'Sta_ID', 'Depth_ID', 'Depthm',]\n",
        "salinity_df_norm = salinity_df.drop(drop_cols, axis=1)  #  data for normalization\n",
        "salinity_df_scale = salinity_df_norm.copy(deep=True)    #  backup data"
      ]
    },
    {
      "cell_type": "markdown",
      "metadata": {
        "id": "X7h27qexnMaq"
      },
      "source": [
        "Normalization"
      ]
    },
    {
      "cell_type": "code",
      "execution_count": null,
      "metadata": {
        "id": "REXCCSo1nLVR"
      },
      "outputs": [],
      "source": [
        "salinity_df_scale = StandardScaler().fit_transform(salinity_df_scale)\n",
        "\n",
        "#  create dataframe\n",
        "salinity_df_norm = pd.DataFrame(salinity_df_scale, index=salinity_df_norm.index, columns=salinity_df_norm.columns)"
      ]
    },
    {
      "cell_type": "markdown",
      "metadata": {
        "id": "Q7Gt2Eynm79R"
      },
      "source": [
        "### Correlation of features with Salinity"
      ]
    },
    {
      "cell_type": "code",
      "execution_count": null,
      "metadata": {
        "colab": {
          "base_uri": "https://localhost:8080/"
        },
        "id": "tk1wHtJbnbkD",
        "outputId": "902ea6e4-3d34-46bc-9a22-ddb2c7d67a89"
      },
      "outputs": [
        {
          "name": "stdout",
          "output_type": "stream",
          "text": [
            "Columns with mode:0\n",
            " -  P_qual 0.0\n",
            " -  Chlqua 0.0\n",
            " -  Phaqua 0.0\n",
            " -  SiO3qu 0.0\n",
            " -  NO2q 0.0\n",
            " -  NO3q 0.0\n",
            " -  NH3q 0.0\n",
            " -  C14A1q 0.0\n",
            " -  C14A2q 0.0\n",
            " -  DarkAq 0.0\n",
            " -  MeanAq 0.0\n",
            "\n",
            "Correlation dataframe\n",
            "    Attributes  Correlation\n",
            "0     salinity     1.000000\n",
            "1   R_SALINITY     0.988342\n",
            "2       STheta     0.801297\n",
            "3      R_SIGMA     0.798107\n",
            "4      R_Depth     0.558389\n",
            "5       R_PRES     0.557894\n",
            "6      R_DYNHT     0.368063\n",
            "7       S_prec     0.272399\n",
            "8       RecInd     0.096598\n",
            "9       T_prec    -0.008384\n",
            "10      T_degC    -0.512015\n",
            "11      R_TEMP    -0.512015\n",
            "12    R_POTEMP    -0.597880\n",
            "13      O2ml_L    -0.672956\n",
            "14        R_O2    -0.672956\n",
            "15       R_SVA    -0.795031\n"
          ]
        }
      ],
      "source": [
        "salinity_df_norm.corr()\n",
        "\n",
        "#  Drop columns with mode = \"0.0\".  No impact on correlation\n",
        "print('Columns with mode:0')\n",
        "for i in salinity_df_norm.columns.tolist():\n",
        "    if (salinity_df_norm[i].mode()[0] == 0.0):\n",
        "        print(' - ',i,salinity_df_norm[i].mode()[0])\n",
        "        salinity_df_norm = salinity_df_norm.drop(i,axis=1)\n",
        "\n",
        "#  Create correlation dataframe\n",
        "print()\n",
        "print('Correlation dataframe')\n",
        "salinity_df_corr = pd.DataFrame(columns=['Attributes','Correlation'])\n",
        "salinity_df_corr.Attributes = salinity_df_norm.corr()['salinity'].sort_values(ascending=False).index\n",
        "salinity_df_corr.Correlation = salinity_df_norm.corr()['salinity'].sort_values(ascending=False).values\n",
        "print(salinity_df_corr)"
      ]
    },
    {
      "cell_type": "markdown",
      "metadata": {
        "id": "0al0Eot2oJoM"
      },
      "source": [
        "### Feature selection based on correlation with 'Salinity'"
      ]
    },
    {
      "cell_type": "code",
      "execution_count": null,
      "metadata": {
        "id": "eGBZ40tIoW71"
      },
      "outputs": [],
      "source": [
        "salinity_df_norm = salinity_df_norm[['STheta','R_SIGMA','R_Depth','R_DYNHT','S_prec','RecInd','T_degC','O2ml_L','salinity']]\n",
        "\n",
        "x = salinity_df_norm.iloc[:,:-1]\n",
        "y = salinity_df_norm['salinity']"
      ]
    },
    {
      "cell_type": "code",
      "execution_count": null,
      "metadata": {
        "colab": {
          "base_uri": "https://localhost:8080/",
          "height": 596
        },
        "id": "cTedxCCG3GTJ",
        "outputId": "9c6bcbfe-1659-490c-f19c-6a8e0e031b1a"
      },
      "outputs": [
        {
          "data": {
            "image/png": "[encoded data removed]",
            "text/plain": [
              "<Figure size 720x720 with 2 Axes>"
            ]
          },
          "metadata": {
            "needs_background": "light"
          },
          "output_type": "display_data"
        }
      ],
      "source": [
        "# Correlation matrix\n",
        "corr = x.corr()\n",
        "plt.figure(figsize=(10,10))\n",
        "sns.heatmap(corr, \n",
        "            annot=True, fmt=\".3f\",\n",
        "            xticklabels=corr.columns.values,\n",
        "            yticklabels=corr.columns.values)\n",
        "plt.show()"
      ]
    },
    {
      "cell_type": "markdown",
      "metadata": {
        "id": "2YjHHn1-n04q"
      },
      "source": [
        "### Q1. Explain multicollinearity and it's effects on the model. Check for multicollinearity using Variance Inflation Factor (VIF). How would you solve the multicollinearity problem ? (4 marks) \n",
        "\n",
        "Answer:\n",
        "Multicollinearity occurs when there is a high intercorrelation between two or more independent variables in a multiple regression model. \n",
        "Multicollinearity could be structural, where one independent variable is computed from other independent variables in the dataset or purely observational, i.e existing naturally in the data.\n",
        "\n",
        "\n",
        "Effects on model\n",
        "1. Multicollinearity in data makes it difficult to understand the significance of each independent variable during data analysis.\n",
        "2. For effects on model performance, there is a slight increase in model performance once multicollinearity is minimized by removing one of the correlated variables, but the difference is not quiet significant in comparison with the models using data with multicollinearity problem."
      ]
    },
    {
      "cell_type": "code",
      "execution_count": null,
      "metadata": {
        "id": "dxAl5ro1-AYj"
      },
      "outputs": [],
      "source": [
        "# Multicollinearity check using Variance Inflation\n",
        "\n",
        "from statsmodels.stats.outliers_influence import variance_inflation_factor as VIF\n",
        "\n",
        "vif_values = pd.DataFrame()\n",
        "vif_values['Attribute'] = x.columns\n",
        "vif_values['VIF score'] = [VIF(x.values, i) for i in range(len(x.columns))]"
      ]
    },
    {
      "cell_type": "code",
      "execution_count": null,
      "metadata": {
        "colab": {
          "base_uri": "https://localhost:8080/",
          "height": 297
        },
        "id": "HPqJH1_V_ME7",
        "outputId": "fd2b3c47-f67c-4ff6-bcc4-23d301eada9c"
      },
      "outputs": [
        {
          "data": {
            "text/html": [
              "\n",
              "  <div id=\"df-c98b3708-713c-497d-8473-eb9855e76531\">\n",
              "    <div class=\"colab-df-container\">\n",
              "      <div>\n",
              "<style scoped>\n",
              "    .dataframe tbody tr th:only-of-type {\n",
              "        vertical-align: middle;\n",
              "    }\n",
              "\n",
              "    .dataframe tbody tr th {\n",
              "        vertical-align: top;\n",
              "    }\n",
              "\n",
              "    .dataframe thead th {\n",
              "        text-align: right;\n",
              "    }\n",
              "</style>\n",
              "<table border=\"1\" class=\"dataframe\">\n",
              "  <thead>\n",
              "    <tr style=\"text-align: right;\">\n",
              "      <th></th>\n",
              "      <th>Attribute</th>\n",
              "      <th>VIF score</th>\n",
              "    </tr>\n",
              "  </thead>\n",
              "  <tbody>\n",
              "    <tr>\n",
              "      <th>0</th>\n",
              "      <td>STheta</td>\n",
              "      <td>101.461592</td>\n",
              "    </tr>\n",
              "    <tr>\n",
              "      <th>1</th>\n",
              "      <td>R_SIGMA</td>\n",
              "      <td>92.896521</td>\n",
              "    </tr>\n",
              "    <tr>\n",
              "      <th>2</th>\n",
              "      <td>R_Depth</td>\n",
              "      <td>2.946140</td>\n",
              "    </tr>\n",
              "    <tr>\n",
              "      <th>3</th>\n",
              "      <td>R_DYNHT</td>\n",
              "      <td>2.541424</td>\n",
              "    </tr>\n",
              "    <tr>\n",
              "      <th>4</th>\n",
              "      <td>S_prec</td>\n",
              "      <td>4.704827</td>\n",
              "    </tr>\n",
              "    <tr>\n",
              "      <th>5</th>\n",
              "      <td>RecInd</td>\n",
              "      <td>4.159507</td>\n",
              "    </tr>\n",
              "    <tr>\n",
              "      <th>6</th>\n",
              "      <td>T_degC</td>\n",
              "      <td>4.818592</td>\n",
              "    </tr>\n",
              "    <tr>\n",
              "      <th>7</th>\n",
              "      <td>O2ml_L</td>\n",
              "      <td>2.117952</td>\n",
              "    </tr>\n",
              "  </tbody>\n",
              "</table>\n",
              "</div>\n",
              "      <button class=\"colab-df-convert\" onclick=\"convertToInteractive('df-c98b3708-713c-497d-8473-eb9855e76531')\"\n",
              "              title=\"Convert this dataframe to an interactive table.\"\n",
              "              style=\"display:none;\">\n",
              "        \n",
              "  <svg xmlns=\"http://www.w3.org/2000/svg\" height=\"24px\"viewBox=\"0 0 24 24\"\n",
              "       width=\"24px\">\n",
              "    <path d=\"M0 0h24v24H0V0z\" fill=\"none\"/>\n",
              "    <path d=\"M18.56 5.44l.94 2.06.94-2.06 2.06-.94-2.06-.94-.94-2.06-.94 2.06-2.06.94zm-11 1L8.5 8.5l.94-2.06 2.06-.94-2.06-.94L8.5 2.5l-.94 2.06-2.06.94zm10 10l.94 2.06.94-2.06 2.06-.94-2.06-.94-.94-2.06-.94 2.06-2.06.94z\"/><path d=\"M17.41 7.96l-1.37-1.37c-.4-.4-.92-.59-1.43-.59-.52 0-1.04.2-1.43.59L10.3 9.45l-7.72 7.72c-.78.78-.78 2.05 0 2.83L4 21.41c.39.39.9.59 1.41.59.51 0 1.02-.2 1.41-.59l7.78-7.78 2.81-2.81c.8-.78.8-2.07 0-2.86zM5.41 20L4 18.59l7.72-7.72 1.47 1.35L5.41 20z\"/>\n",
              "  </svg>\n",
              "      </button>\n",
              "      \n",
              "  <style>\n",
              "    .colab-df-container {\n",
              "      display:flex;\n",
              "      flex-wrap:wrap;\n",
              "      gap: 12px;\n",
              "    }\n",
              "\n",
              "    .colab-df-convert {\n",
              "      background-color: #E8F0FE;\n",
              "      border: none;\n",
              "      border-radius: 50%;\n",
              "      cursor: pointer;\n",
              "      display: none;\n",
              "      fill: #1967D2;\n",
              "      height: 32px;\n",
              "      padding: 0 0 0 0;\n",
              "      width: 32px;\n",
              "    }\n",
              "\n",
              "    .colab-df-convert:hover {\n",
              "      background-color: #E2EBFA;\n",
              "      box-shadow: 0px 1px 2px rgba(60, 64, 67, 0.3), 0px 1px 3px 1px rgba(60, 64, 67, 0.15);\n",
              "      fill: #174EA6;\n",
              "    }\n",
              "\n",
              "    [theme=dark] .colab-df-convert {\n",
              "      background-color: #3B4455;\n",
              "      fill: #D2E3FC;\n",
              "    }\n",
              "\n",
              "    [theme=dark] .colab-df-convert:hover {\n",
              "      background-color: #434B5C;\n",
              "      box-shadow: 0px 1px 3px 1px rgba(0, 0, 0, 0.15);\n",
              "      filter: drop-shadow(0px 1px 2px rgba(0, 0, 0, 0.3));\n",
              "      fill: #FFFFFF;\n",
              "    }\n",
              "  </style>\n",
              "\n",
              "      <script>\n",
              "        const buttonEl =\n",
              "          document.querySelector('#df-c98b3708-713c-497d-8473-eb9855e76531 button.colab-df-convert');\n",
              "        buttonEl.style.display =\n",
              "          google.colab.kernel.accessAllowed ? 'block' : 'none';\n",
              "\n",
              "        async function convertToInteractive(key) {\n",
              "          const element = document.querySelector('#df-c98b3708-713c-497d-8473-eb9855e76531');\n",
              "          const dataTable =\n",
              "            await google.colab.kernel.invokeFunction('convertToInteractive',\n",
              "                                                     [key], {});\n",
              "          if (!dataTable) return;\n",
              "\n",
              "          const docLinkHtml = 'Like what you see? Visit the ' +\n",
              "            '<a target=\"_blank\" href=https://colab.research.google.com/notebooks/data_table.ipynb>data table notebook</a>'\n",
              "            + ' to learn more about interactive tables.';\n",
              "          element.innerHTML = '';\n",
              "          dataTable['output_type'] = 'display_data';\n",
              "          await google.colab.output.renderOutput(dataTable, element);\n",
              "          const docLink = document.createElement('div');\n",
              "          docLink.innerHTML = docLinkHtml;\n",
              "          element.appendChild(docLink);\n",
              "        }\n",
              "      </script>\n",
              "    </div>\n",
              "  </div>\n",
              "  "
            ],
            "text/plain": [
              "  Attribute   VIF score\n",
              "0    STheta  101.461592\n",
              "1   R_SIGMA   92.896521\n",
              "2   R_Depth    2.946140\n",
              "3   R_DYNHT    2.541424\n",
              "4    S_prec    4.704827\n",
              "5    RecInd    4.159507\n",
              "6    T_degC    4.818592\n",
              "7    O2ml_L    2.117952"
            ]
          },
          "execution_count": 26,
          "metadata": {},
          "output_type": "execute_result"
        }
      ],
      "source": [
        "vif_values"
      ]
    },
    {
      "cell_type": "markdown",
      "metadata": {
        "id": "vqu3Ae_vn6FH"
      },
      "source": [
        "From the table above, STheta and R_SIGMA are highly correlated with high VIF value.\n",
        "Multicollinearity will be solved by removing one of the independent variables with high correlation with the other.\n",
        "i.e Dropping R_SIGMA variable."
      ]
    },
    {
      "cell_type": "code",
      "execution_count": null,
      "metadata": {
        "id": "ZgBrYY41llPw"
      },
      "outputs": [],
      "source": [
        "# dropping R_SIGMA feature\n",
        "x_dropped = x.drop('R_SIGMA', axis=1)\n"
      ]
    },
    {
      "cell_type": "code",
      "execution_count": null,
      "metadata": {
        "id": "_Nr0Uf3Ng0Zw"
      },
      "outputs": [],
      "source": [
        "X_train, X_test, y_train, y_test = train_test_split(x, y, test_size = 0.20, random_state = 42)"
      ]
    },
    {
      "cell_type": "markdown",
      "metadata": {
        "id": "YELTeftdhfdd"
      },
      "source": [
        "### Model building"
      ]
    },
    {
      "cell_type": "code",
      "execution_count": null,
      "metadata": {
        "id": "MYGxd6EfjIeG"
      },
      "outputs": [],
      "source": [
        "def rmse(y_true, y_pred):\n",
        "    y_true, y_pred = np.array(y_true), np.array(y_pred)\n",
        "    return np.sqrt(mean_squared_error(y_test, y_pred))"
      ]
    },
    {
      "cell_type": "code",
      "execution_count": null,
      "metadata": {
        "colab": {
          "base_uri": "https://localhost:8080/"
        },
        "id": "kPkttqckg_U5",
        "outputId": "b3589b32-a9ad-48aa-906a-f0c48e4e19ab"
      },
      "outputs": [
        {
          "name": "stdout",
          "output_type": "stream",
          "text": [
            "R2 Score: 0.8142590911482815\n",
            "RMSE: 0.4287615599272428\n"
          ]
        }
      ],
      "source": [
        "linear_regressor = LinearRegression()\n",
        "linear_regressor.fit(X_train, y_train)\n",
        "\n",
        "y_pred = linear_regressor.predict(X_test)\n",
        "test_r2 = linear_regressor.score(X_test, y_test)\n",
        "print('R2 Score:', test_r2)\n",
        "print('RMSE:', rmse(y_test, y_pred))"
      ]
    },
    {
      "cell_type": "markdown",
      "metadata": {
        "id": "sRPPD8QLkdx1"
      },
      "source": [
        "### Q2. Cross validate using the different number of features for Linear Regression model and check the effects on the R2 score and RMSE.  (4 marks)\n",
        "\n",
        "*(Hint: Use sklearn.feature_selection.RFE)*"
      ]
    },
    {
      "cell_type": "code",
      "execution_count": null,
      "metadata": {
        "colab": {
          "base_uri": "https://localhost:8080/",
          "height": 297
        },
        "id": "3Aig6ZmbGa6e",
        "outputId": "3e6cdad0-0e36-4c92-f9d7-92155aa624b5"
      },
      "outputs": [
        {
          "data": {
            "text/html": [
              "\n",
              "  <div id=\"df-7bbfa753-9222-40e3-a468-a3ac84ed9d03\">\n",
              "    <div class=\"colab-df-container\">\n",
              "      <div>\n",
              "<style scoped>\n",
              "    .dataframe tbody tr th:only-of-type {\n",
              "        vertical-align: middle;\n",
              "    }\n",
              "\n",
              "    .dataframe tbody tr th {\n",
              "        vertical-align: top;\n",
              "    }\n",
              "\n",
              "    .dataframe thead th {\n",
              "        text-align: right;\n",
              "    }\n",
              "</style>\n",
              "<table border=\"1\" class=\"dataframe\">\n",
              "  <thead>\n",
              "    <tr style=\"text-align: right;\">\n",
              "      <th></th>\n",
              "      <th>Selected features</th>\n",
              "      <th>R2 Score</th>\n",
              "      <th>RMSE</th>\n",
              "    </tr>\n",
              "  </thead>\n",
              "  <tbody>\n",
              "    <tr>\n",
              "      <th>1</th>\n",
              "      <td>[STheta]</td>\n",
              "      <td>0.650276</td>\n",
              "      <td>0.588335</td>\n",
              "    </tr>\n",
              "    <tr>\n",
              "      <th>2</th>\n",
              "      <td>[STheta, T_degC]</td>\n",
              "      <td>0.691287</td>\n",
              "      <td>0.552763</td>\n",
              "    </tr>\n",
              "    <tr>\n",
              "      <th>3</th>\n",
              "      <td>[STheta, R_Depth, T_degC]</td>\n",
              "      <td>0.761355</td>\n",
              "      <td>0.486002</td>\n",
              "    </tr>\n",
              "    <tr>\n",
              "      <th>4</th>\n",
              "      <td>[STheta, R_Depth, T_degC, O2ml_L]</td>\n",
              "      <td>0.811793</td>\n",
              "      <td>0.431599</td>\n",
              "    </tr>\n",
              "    <tr>\n",
              "      <th>5</th>\n",
              "      <td>[STheta, R_SIGMA, R_Depth, T_degC, O2ml_L]</td>\n",
              "      <td>0.812057</td>\n",
              "      <td>0.431295</td>\n",
              "    </tr>\n",
              "    <tr>\n",
              "      <th>6</th>\n",
              "      <td>[STheta, R_SIGMA, R_Depth, R_DYNHT, T_degC, O2ml_L]</td>\n",
              "      <td>0.813155</td>\n",
              "      <td>0.430033</td>\n",
              "    </tr>\n",
              "    <tr>\n",
              "      <th>7</th>\n",
              "      <td>[STheta, R_SIGMA, R_Depth, R_DYNHT, S_prec, T_degC, O2ml_L]</td>\n",
              "      <td>0.813688</td>\n",
              "      <td>0.429421</td>\n",
              "    </tr>\n",
              "    <tr>\n",
              "      <th>8</th>\n",
              "      <td>[STheta, R_SIGMA, R_Depth, R_DYNHT, S_prec, RecInd, T_degC, O2ml_L]</td>\n",
              "      <td>0.814259</td>\n",
              "      <td>0.428762</td>\n",
              "    </tr>\n",
              "  </tbody>\n",
              "</table>\n",
              "</div>\n",
              "      <button class=\"colab-df-convert\" onclick=\"convertToInteractive('df-7bbfa753-9222-40e3-a468-a3ac84ed9d03')\"\n",
              "              title=\"Convert this dataframe to an interactive table.\"\n",
              "              style=\"display:none;\">\n",
              "        \n",
              "  <svg xmlns=\"http://www.w3.org/2000/svg\" height=\"24px\"viewBox=\"0 0 24 24\"\n",
              "       width=\"24px\">\n",
              "    <path d=\"M0 0h24v24H0V0z\" fill=\"none\"/>\n",
              "    <path d=\"M18.56 5.44l.94 2.06.94-2.06 2.06-.94-2.06-.94-.94-2.06-.94 2.06-2.06.94zm-11 1L8.5 8.5l.94-2.06 2.06-.94-2.06-.94L8.5 2.5l-.94 2.06-2.06.94zm10 10l.94 2.06.94-2.06 2.06-.94-2.06-.94-.94-2.06-.94 2.06-2.06.94z\"/><path d=\"M17.41 7.96l-1.37-1.37c-.4-.4-.92-.59-1.43-.59-.52 0-1.04.2-1.43.59L10.3 9.45l-7.72 7.72c-.78.78-.78 2.05 0 2.83L4 21.41c.39.39.9.59 1.41.59.51 0 1.02-.2 1.41-.59l7.78-7.78 2.81-2.81c.8-.78.8-2.07 0-2.86zM5.41 20L4 18.59l7.72-7.72 1.47 1.35L5.41 20z\"/>\n",
              "  </svg>\n",
              "      </button>\n",
              "      \n",
              "  <style>\n",
              "    .colab-df-container {\n",
              "      display:flex;\n",
              "      flex-wrap:wrap;\n",
              "      gap: 12px;\n",
              "    }\n",
              "\n",
              "    .colab-df-convert {\n",
              "      background-color: #E8F0FE;\n",
              "      border: none;\n",
              "      border-radius: 50%;\n",
              "      cursor: pointer;\n",
              "      display: none;\n",
              "      fill: #1967D2;\n",
              "      height: 32px;\n",
              "      padding: 0 0 0 0;\n",
              "      width: 32px;\n",
              "    }\n",
              "\n",
              "    .colab-df-convert:hover {\n",
              "      background-color: #E2EBFA;\n",
              "      box-shadow: 0px 1px 2px rgba(60, 64, 67, 0.3), 0px 1px 3px 1px rgba(60, 64, 67, 0.15);\n",
              "      fill: #174EA6;\n",
              "    }\n",
              "\n",
              "    [theme=dark] .colab-df-convert {\n",
              "      background-color: #3B4455;\n",
              "      fill: #D2E3FC;\n",
              "    }\n",
              "\n",
              "    [theme=dark] .colab-df-convert:hover {\n",
              "      background-color: #434B5C;\n",
              "      box-shadow: 0px 1px 3px 1px rgba(0, 0, 0, 0.15);\n",
              "      filter: drop-shadow(0px 1px 2px rgba(0, 0, 0, 0.3));\n",
              "      fill: #FFFFFF;\n",
              "    }\n",
              "  </style>\n",
              "\n",
              "      <script>\n",
              "        const buttonEl =\n",
              "          document.querySelector('#df-7bbfa753-9222-40e3-a468-a3ac84ed9d03 button.colab-df-convert');\n",
              "        buttonEl.style.display =\n",
              "          google.colab.kernel.accessAllowed ? 'block' : 'none';\n",
              "\n",
              "        async function convertToInteractive(key) {\n",
              "          const element = document.querySelector('#df-7bbfa753-9222-40e3-a468-a3ac84ed9d03');\n",
              "          const dataTable =\n",
              "            await google.colab.kernel.invokeFunction('convertToInteractive',\n",
              "                                                     [key], {});\n",
              "          if (!dataTable) return;\n",
              "\n",
              "          const docLinkHtml = 'Like what you see? Visit the ' +\n",
              "            '<a target=\"_blank\" href=https://colab.research.google.com/notebooks/data_table.ipynb>data table notebook</a>'\n",
              "            + ' to learn more about interactive tables.';\n",
              "          element.innerHTML = '';\n",
              "          dataTable['output_type'] = 'display_data';\n",
              "          await google.colab.output.renderOutput(dataTable, element);\n",
              "          const docLink = document.createElement('div');\n",
              "          docLink.innerHTML = docLinkHtml;\n",
              "          element.appendChild(docLink);\n",
              "        }\n",
              "      </script>\n",
              "    </div>\n",
              "  </div>\n",
              "  "
            ],
            "text/plain": [
              "                                                     Selected features  ...      RMSE\n",
              "1                                                             [STheta]  ...  0.588335\n",
              "2                                                     [STheta, T_degC]  ...  0.552763\n",
              "3                                            [STheta, R_Depth, T_degC]  ...  0.486002\n",
              "4                                    [STheta, R_Depth, T_degC, O2ml_L]  ...  0.431599\n",
              "5                           [STheta, R_SIGMA, R_Depth, T_degC, O2ml_L]  ...  0.431295\n",
              "6                  [STheta, R_SIGMA, R_Depth, R_DYNHT, T_degC, O2ml_L]  ...  0.430033\n",
              "7          [STheta, R_SIGMA, R_Depth, R_DYNHT, S_prec, T_degC, O2ml_L]  ...  0.429421\n",
              "8  [STheta, R_SIGMA, R_Depth, R_DYNHT, S_prec, RecInd, T_degC, O2ml_L]  ...  0.428762\n",
              "\n",
              "[8 rows x 3 columns]"
            ]
          },
          "execution_count": 23,
          "metadata": {},
          "output_type": "execute_result"
        }
      ],
      "source": [
        "from sklearn.feature_selection import RFE\n",
        "pd.options.display.max_colwidth = 100\n",
        "\n",
        "num_features_list = list(range(1, len(x.columns)+1))\n",
        "features = x.columns\n",
        "estimator = LinearRegression()\n",
        "\n",
        "features_df = pd.DataFrame(columns=['Selected features', 'R2 Score', 'RMSE'])\n",
        "\n",
        "for i in num_features_list:\n",
        "  selector = RFE(estimator, n_features_to_select=i)\n",
        "  selector = selector.fit(X_train, y_train)\n",
        "  features_bool = selector.support_\n",
        "  selected_features = [x for x, y in zip(features, features_bool) if y == True]\n",
        "  r2_score = selector.score(X_test, y_test)\n",
        "  mean_sq = rmse(y_test, selector.predict(X_test))\n",
        "  features_df.loc[i] = selected_features, r2_score, mean_sq\n",
        "\n",
        "features_df"
      ]
    },
    {
      "cell_type": "markdown",
      "metadata": {
        "id": "RUHJT-BGkVrI"
      },
      "source": [
        "\n",
        "###  Q3. Run the following regression algorithms using the same data, obtain the R2 scores and RMSE values:\n",
        "###     i. Gradient Boosting Regressor (3 marks)\n"
      ]
    },
    {
      "cell_type": "markdown",
      "metadata": {
        "id": "25e5VaV7QsLx"
      },
      "source": [
        "### ii. Random Forest Regressor (3 marks)"
      ]
    },
    {
      "cell_type": "markdown",
      "metadata": {
        "id": "RmU9k5IMfekB"
      },
      "source": [
        "### iii. ADA Boost Regressor (3 marks)"
      ]
    },
    {
      "cell_type": "code",
      "execution_count": null,
      "metadata": {
        "id": "ouSm8aa3o1Us"
      },
      "outputs": [],
      "source": [
        "### Running algorithms using data without multicollinearity problem"
      ]
    },
    {
      "cell_type": "code",
      "execution_count": null,
      "metadata": {
        "id": "kTzDULell_QF"
      },
      "outputs": [],
      "source": [
        "Xd_train, Xd_test, yd_train, yd_test = train_test_split(x_dropped, y, test_size = 0.20, random_state = 42)"
      ]
    },
    {
      "cell_type": "code",
      "execution_count": null,
      "metadata": {
        "colab": {
          "base_uri": "https://localhost:8080/"
        },
        "id": "5SUfiIL0mYTn",
        "outputId": "9f83fc45-ec1e-432d-80db-47d831f4cb6c"
      },
      "outputs": [
        {
          "name": "stdout",
          "output_type": "stream",
          "text": [
            "Gradient Boosting Regressor:  R2 score: 0.9561249414132703,  RMSE: 0.20838713981958631\n"
          ]
        }
      ],
      "source": [
        "from sklearn.ensemble import GradientBoostingRegressor\n",
        "\n",
        "gboost = GradientBoostingRegressor(random_state=26)\n",
        "gboost.fit(Xd_train, yd_train)\n",
        "gboost_score = gboost.score(Xd_test, yd_test)\n",
        "gboost_rmse = rmse(yd_test, gboost.predict(Xd_test))\n",
        "\n",
        "print(\"Gradient Boosting Regressor:  R2 score: {},  RMSE: {}\".format(gboost_score, gboost_rmse))"
      ]
    },
    {
      "cell_type": "code",
      "execution_count": null,
      "metadata": {
        "colab": {
          "base_uri": "https://localhost:8080/"
        },
        "id": "d_2GHXKDmg-T",
        "outputId": "ca326943-3173-408a-a686-ccc66db54440"
      },
      "outputs": [
        {
          "name": "stdout",
          "output_type": "stream",
          "text": [
            "Random Forest Regressor:  R2 score: 0.9910593945104935,  RMSE: 0.09406878291487425\n"
          ]
        }
      ],
      "source": [
        "from sklearn.ensemble import RandomForestRegressor\n",
        "\n",
        "rf = RandomForestRegressor(random_state=26)\n",
        "rf.fit(Xd_train, yd_train)\n",
        "rf_score = rf.score(Xd_test, yd_test)\n",
        "rf_rmse = rmse(yd_test, rf.predict(Xd_test))\n",
        "\n",
        "print(\"Random Forest Regressor:  R2 score: {},  RMSE: {}\".format(rf_score, rf_rmse))"
      ]
    },
    {
      "cell_type": "code",
      "execution_count": null,
      "metadata": {
        "colab": {
          "base_uri": "https://localhost:8080/"
        },
        "id": "_ldEj-1omsrS",
        "outputId": "88cb05a5-bb38-48ae-e308-123798f8e469"
      },
      "outputs": [
        {
          "name": "stdout",
          "output_type": "stream",
          "text": [
            "ADA Boost Regressor:  R2 score: 0.8226230108392614,  RMSE: 0.41899679269859297\n"
          ]
        }
      ],
      "source": [
        "from sklearn.ensemble import AdaBoostRegressor\n",
        "\n",
        "adab = AdaBoostRegressor(n_estimators = 100, random_state=26)\n",
        "adab.fit(Xd_train, yd_train)\n",
        "adab_score = adab.score(Xd_test, yd_test)\n",
        "adab_rmse = rmse(yd_test, adab.predict(Xd_test))\n",
        "\n",
        "print(\"ADA Boost Regressor:  R2 score: {},  RMSE: {}\".format(adab_score, adab_rmse))"
      ]
    },
    {
      "cell_type": "code",
      "execution_count": null,
      "metadata": {
        "id": "uYKkFnKPpYfE"
      },
      "outputs": [],
      "source": [
        "### Running algorithms using data with multicollinearity problem"
      ]
    },
    {
      "cell_type": "code",
      "execution_count": null,
      "metadata": {
        "colab": {
          "base_uri": "https://localhost:8080/"
        },
        "id": "5S1qqZS_6bc8",
        "outputId": "9a284292-e978-4952-91b9-f13d91cb4a65"
      },
      "outputs": [
        {
          "name": "stdout",
          "output_type": "stream",
          "text": [
            "Gradient Boosting Regressor:  R2 score: 0.9559302561396273,  RMSE: 0.20884896258812286\n"
          ]
        }
      ],
      "source": [
        "from sklearn.ensemble import GradientBoostingRegressor\n",
        "\n",
        "gboost = GradientBoostingRegressor(random_state=26)\n",
        "gboost.fit(X_train, y_train)\n",
        "gboost_score = gboost.score(X_test, y_test)\n",
        "gboost_rmse = rmse(y_test, gboost.predict(X_test))\n",
        "\n",
        "print(\"Gradient Boosting Regressor:  R2 score: {},  RMSE: {}\".format(gboost_score, gboost_rmse))"
      ]
    },
    {
      "cell_type": "code",
      "execution_count": null,
      "metadata": {
        "colab": {
          "base_uri": "https://localhost:8080/"
        },
        "id": "IyFajugc8ET_",
        "outputId": "30c697fa-82b1-4594-e51d-8c0454815060"
      },
      "outputs": [
        {
          "name": "stdout",
          "output_type": "stream",
          "text": [
            "Random Forest Regressor:  R2 score: 0.9909962862899008,  RMSE: 0.09440019639919144\n"
          ]
        }
      ],
      "source": [
        "from sklearn.ensemble import RandomForestRegressor\n",
        "\n",
        "rf = RandomForestRegressor(random_state=26)\n",
        "rf.fit(X_train, y_train)\n",
        "rf_score = rf.score(X_test, y_test)\n",
        "rf_rmse = rmse(y_test, rf.predict(X_test))\n",
        "\n",
        "print(\"Random Forest Regressor:  R2 score: {},  RMSE: {}\".format(rf_score, rf_rmse))"
      ]
    },
    {
      "cell_type": "code",
      "execution_count": null,
      "metadata": {
        "colab": {
          "base_uri": "https://localhost:8080/"
        },
        "id": "Yotvirl29L8W",
        "outputId": "16e6d681-22a0-473b-e91a-3c5ada6a3c46"
      },
      "outputs": [
        {
          "name": "stdout",
          "output_type": "stream",
          "text": [
            "ADA Boost Regressor:  R2 score: 0.8069174776214936,  RMSE: 0.4371530784153811\n"
          ]
        }
      ],
      "source": [
        "from sklearn.ensemble import AdaBoostRegressor\n",
        "\n",
        "adab = AdaBoostRegressor(n_estimators = 100, random_state=26)\n",
        "adab.fit(X_train, y_train)\n",
        "adab_score = adab.score(X_test, y_test)\n",
        "adab_rmse = rmse(y_test, adab.predict(X_test))\n",
        "\n",
        "print(\"ADA Boost Regressor:  R2 score: {},  RMSE: {}\".format(adab_score, adab_rmse))"
      ]
    },
    {
      "cell_type": "markdown",
      "metadata": {
        "id": "4OZymhLnsaJG"
      },
      "source": [
        "### Q4. Which model performed the best and why? Give reasons. (3 marks)\n",
        "\n",
        "The model with best performance is the RandomForestRegressor model because it uses a bagging approach to reduce overfitting of the model on the data."
      ]
    }
  ],
  "metadata": {
    "colab": {
      "collapsed_sections": [],
      "name": "Copy of Vector Institute: Assignment 3.ipynb",
      "provenance": []
    },
    "kernelspec": {
      "display_name": "Python 3",
      "name": "python3"
    },
    "language_info": {
      "name": "python"
    }
  },
  "nbformat": 4,
  "nbformat_minor": 0
}
